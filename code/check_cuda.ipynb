{
 "cells": [
  {
   "cell_type": "code",
   "execution_count": 1,
   "id": "f5520ff9-33e0-4b32-a899-3283734406f4",
   "metadata": {},
   "outputs": [
    {
     "name": "stdout",
     "output_type": "stream",
     "text": [
      "GPU is available\n",
      "__CUDNN VERSION: 7605\n",
      "__Number CUDA Devices: 1\n",
      "__CUDA Device Name: Tesla P100-PCIE-16GB\n",
      "__CUDA Device Total Memory [GB]: 17.06688512\n",
      "Device:  cuda\n"
     ]
    }
   ],
   "source": [
    "import torch\n",
    "\n",
    "if torch.cuda.is_available():\n",
    "    print('GPU is available')\n",
    "else:\n",
    "    print('GPU is not available')\n",
    "\n",
    "use_cuda = torch.cuda.is_available()\n",
    "\n",
    "if use_cuda:\n",
    "    print('__CUDNN VERSION:', torch.backends.cudnn.version())\n",
    "    print('__Number CUDA Devices:', torch.cuda.device_count())\n",
    "    print('__CUDA Device Name:', torch.cuda.get_device_name(0))\n",
    "    print(\n",
    "        '__CUDA Device Total Memory [GB]:',\n",
    "        torch.cuda.get_device_properties(0).total_memory / 1e9,\n",
    "    )\n",
    "\n",
    "device = torch.device('cuda' if use_cuda else 'cpu')\n",
    "print('Device: ', device)"
   ]
  }
 ],
 "metadata": {
  "kernelspec": {
   "display_name": "Python 3",
   "language": "python",
   "name": "python3"
  },
  "language_info": {
   "codemirror_mode": {
    "name": "ipython",
    "version": 3
   },
   "file_extension": ".py",
   "mimetype": "text/x-python",
   "name": "python",
   "nbconvert_exporter": "python",
   "pygments_lexer": "ipython3",
   "version": "3.6.8"
  }
 },
 "nbformat": 4,
 "nbformat_minor": 5
}
